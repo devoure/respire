{
 "cells": [
  {
   "cell_type": "code",
   "execution_count": 1,
   "id": "18a5d21c",
   "metadata": {},
   "outputs": [],
   "source": [
    "# Load various imports\n",
    "from datetime import datetime\n",
    "from os import listdir\n",
    "from os.path import isfile, join\n",
    "\n",
    "import librosa\n",
    "import librosa.display\n",
    "\n",
    "import numpy as np\n",
    "import pandas as pd\n",
    "\n",
    "import tensorflow\n",
    "from tensorflow.keras.models import Sequential\n",
    "from tensorflow.keras.layers import Dense, Dropout, Conv2D, MaxPooling2D, GlobalAveragePooling2D\n",
    "from keras.utils import to_categorical\n",
    "from tensorflow.keras.callbacks import ModelCheckpoint\n",
    "\n",
    "from sklearn.metrics import confusion_matrix, classification_report, roc_curve, auc, ConfusionMatrixDisplay\n",
    "from sklearn.model_selection import train_test_split\n",
    "from sklearn.preprocessing import LabelEncoder\n",
    "\n",
    "import matplotlib.pyplot as plt\n",
    "import seaborn as sns\n",
    "from sklearn.preprocessing import StandardScaler, OneHotEncoder\n",
    "from sklearn.preprocessing import MinMaxScaler"
   ]
  },
  {
   "cell_type": "code",
   "execution_count": 2,
   "id": "7ca6b5f7",
   "metadata": {},
   "outputs": [],
   "source": [
    "mypath = \"Respiratory_Sound_Database/Respiratory_Sound_Database/audio_and_txt_files/\"\n",
    "filenames = [f for f in listdir(mypath) if (isfile(join(mypath, f)) and f.endswith('.wav'))] "
   ]
  },
  {
   "cell_type": "code",
   "execution_count": 3,
   "id": "3183bde6",
   "metadata": {},
   "outputs": [],
   "source": [
    "p_id_in_file = [] # patient IDs corresponding to each file\n",
    "for name in filenames:\n",
    "    p_id_in_file.append(int(name[:3]))\n",
    "\n",
    "p_id_in_file = np.array(p_id_in_file)"
   ]
  },
  {
   "cell_type": "code",
   "execution_count": 4,
   "id": "34f3a4e0",
   "metadata": {},
   "outputs": [],
   "source": [
    "filepaths = [join(mypath, f) for f in filenames] # full paths of files"
   ]
  },
  {
   "cell_type": "code",
   "execution_count": 5,
   "id": "54f1aac7",
   "metadata": {},
   "outputs": [],
   "source": [
    "p_diag = pd.read_csv(\"Respiratory_Sound_Database/Respiratory_Sound_Database/patient_diagnosis.csv\",header=None) # patient diagnosis file"
   ]
  },
  {
   "cell_type": "code",
   "execution_count": 6,
   "id": "06bb34eb",
   "metadata": {},
   "outputs": [],
   "source": [
    "labels = np.array([p_diag[p_diag[0] == x][1].values[0] for x in p_id_in_file]) # labels for audio files"
   ]
  },
  {
   "cell_type": "code",
   "execution_count": 7,
   "id": "54eeaa4f",
   "metadata": {},
   "outputs": [],
   "source": [
    "def add_noise(data):\n",
    "    noise_value = 0.015 * np.random.uniform() * np.amax(data)\n",
    "    data = data + noise_value * np.random.normal(size=data.shape[0])\n",
    "    return data"
   ]
  },
  {
   "cell_type": "code",
   "execution_count": 8,
   "id": "367c64d4",
   "metadata": {},
   "outputs": [],
   "source": [
    "def stretch_process(data, rate=0.8):\n",
    "    return librosa.effects.time_stretch(data, rate=0.8)"
   ]
  },
  {
   "cell_type": "code",
   "execution_count": 9,
   "id": "136621f8",
   "metadata": {},
   "outputs": [],
   "source": [
    "def pitch_process(data, sampling_rate, pitch_factor=0.7):\n",
    "    return librosa.effects.pitch_shift(data, sr=sampling_rate, n_steps=pitch_factor)"
   ]
  },
  {
   "cell_type": "code",
   "execution_count": 10,
   "id": "50a985cc",
   "metadata": {},
   "outputs": [],
   "source": [
    "def extract_process(data, sample_rate):\n",
    "    output_result = np.array([])\n",
    "\n",
    "    mean_zero = np.mean(librosa.feature.zero_crossing_rate(y=data).T, axis=0)\n",
    "    output_result = np.hstack((output_result, mean_zero))\n",
    "\n",
    "    stft_out = np.abs(librosa.stft(data))\n",
    "    chroma_stft = np.mean(librosa.feature.chroma_stft(S=stft_out, sr=sample_rate).T, axis=0)\n",
    "    output_result = np.hstack((output_result, chroma_stft))\n",
    "\n",
    "    mfcc_out = np.mean(librosa.feature.mfcc(y=data, sr=sample_rate, n_mfcc=40).T, axis=0)\n",
    "    output_result = np.hstack((output_result, mfcc_out))\n",
    "\n",
    "    root_mean_out = np.mean(librosa.feature.rms(y=data).T, axis=0)\n",
    "    output_result = np.hstack((output_result, root_mean_out))\n",
    "\n",
    "    mel_spectogram = np.mean(librosa.feature.melspectrogram(y=data, sr=sample_rate).T, axis=0)\n",
    "    output_result = np.hstack((output_result, mel_spectogram))\n",
    "\n",
    "    return output_result"
   ]
  },
  {
   "cell_type": "code",
   "execution_count": 11,
   "id": "4e8c9bfa",
   "metadata": {},
   "outputs": [],
   "source": [
    "def extract_features(file_name):\n",
    "    \"\"\"\n",
    "    This function takes in the path for an audio file as a string, loads it,\n",
    "    and extracts several audio features including mean values of MFCC, Zero Crossing Rate,\n",
    "    Chromagram, Root Mean Square Energy, and Mel Spectrogram from the original and its augmented versions.\n",
    "    \"\"\"\n",
    "    try:\n",
    "        # Load the original audio file\n",
    "        audio, sample_rate = librosa.load(file_name, res_type='kaiser_fast', duration=42, offset=0.6)\n",
    "\n",
    "        # Extract features from the original audio data\n",
    "        extracted_features = extract_process(audio, sample_rate)\n",
    "        result = np.array(extracted_features)\n",
    "\n",
    "        # Add noise and extract features\n",
    "        noise_out = add_noise(audio)\n",
    "        output_2 = extract_process(noise_out, sample_rate)\n",
    "        result = np.vstack((result, output_2))\n",
    "\n",
    "        # Time-stretch and then pitch-shift before extracting features\n",
    "        new_out = stretch_process(audio,0.8)\n",
    "        stretch_pitch = pitch_process(new_out, sample_rate,pitch_factor=0.7)\n",
    "        output_3 = extract_process(stretch_pitch, sample_rate)\n",
    "        result = np.vstack((result, output_3))\n",
    "\n",
    "    except Exception as e:\n",
    "        print(\"Error encountered while parsing file: \", file_name)\n",
    "        print(\"Error Details:\", e)\n",
    "        return None\n",
    "\n",
    "    return result"
   ]
  },
  {
   "cell_type": "code",
   "execution_count": 12,
   "id": "a089f63f",
   "metadata": {},
   "outputs": [
    {
     "name": "stderr",
     "output_type": "stream",
     "text": [
      "C:\\Users\\jones\\anaconda3\\lib\\site-packages\\librosa\\core\\pitch.py:101: UserWarning: Trying to estimate tuning from empty frequency set.\n",
      "  return pitch_tuning(\n"
     ]
    },
    {
     "name": "stdout",
     "output_type": "stream",
     "text": [
      "Finished feature extraction from  920  files\n"
     ]
    }
   ],
   "source": [
    "features = []\n",
    "\n",
    "# Iterate through each sound file and extract the features\n",
    "for file_name in filepaths:\n",
    "    data = extract_features(file_name)\n",
    "    features.append(data)\n",
    "\n",
    "print('Finished feature extraction from ', len(features), ' files')\n",
    "features = np.array(features)"
   ]
  },
  {
   "cell_type": "code",
   "execution_count": 13,
   "id": "61f5e81a",
   "metadata": {},
   "outputs": [
    {
     "data": {
      "text/plain": [
       "(920, 3, 182)"
      ]
     },
     "execution_count": 13,
     "metadata": {},
     "output_type": "execute_result"
    }
   ],
   "source": [
    "features.shape"
   ]
  },
  {
   "cell_type": "code",
   "execution_count": 14,
   "id": "056d8d8f",
   "metadata": {},
   "outputs": [],
   "source": [
    "# delete the very rare diseases\n",
    "new_features = np.delete(features, np.where((labels == 'Asthma') | (labels == 'LRTI'))[0], axis=0)\n",
    "\n",
    "new_labels = np.delete(labels, np.where((labels == 'Asthma') | (labels == 'LRTI'))[0], axis=0)"
   ]
  },
  {
   "cell_type": "code",
   "execution_count": 15,
   "id": "d175ac14",
   "metadata": {},
   "outputs": [
    {
     "name": "stdout",
     "output_type": "stream",
     "text": [
      "[['Bronchiectasis' 'Bronchiolitis' 'COPD' 'Healthy' 'Pneumonia' 'URTI']\n",
      " ['16' '13' '793' '35' '37' '23']]\n"
     ]
    }
   ],
   "source": [
    "# print class counts\n",
    "unique_elements, counts_elements = np.unique(new_labels, return_counts=True)\n",
    "print(np.asarray((unique_elements, counts_elements)))"
   ]
  },
  {
   "cell_type": "code",
   "execution_count": 16,
   "id": "46ff4c7c",
   "metadata": {},
   "outputs": [
    {
     "data": {
      "image/png": "[encoded data removed]",
      "text/plain": [
       "<Figure size 864x576 with 1 Axes>"
      ]
     },
     "metadata": {
      "needs_background": "light"
     },
     "output_type": "display_data"
    }
   ],
   "source": [
    "# plot class counts\n",
    "y_pos = np.arange(len(unique_elements))\n",
    "plt.figure(figsize=(12,8))\n",
    "plt.bar(unique_elements, counts_elements, align='center', alpha=0.5)\n",
    "plt.xticks(y_pos, unique_elements)\n",
    "plt.ylabel('Count')\n",
    "plt.xlabel('Disease')\n",
    "plt.title('Disease Count in Sound Files (No Asthma or LRTI)')\n",
    "plt.show()"
   ]
  },
  {
   "cell_type": "code",
   "execution_count": 17,
   "id": "5c7030eb",
   "metadata": {},
   "outputs": [],
   "source": [
    "flattened_features = new_features.reshape(-1, 182)"
   ]
  },
  {
   "cell_type": "code",
   "execution_count": 18,
   "id": "8dfaeb1d",
   "metadata": {},
   "outputs": [],
   "source": [
    "augmented_labels = np.repeat(labels, 3)"
   ]
  },
  {
   "cell_type": "code",
   "execution_count": 19,
   "id": "8610a2b6",
   "metadata": {},
   "outputs": [],
   "source": [
    "augmented_features = np.reshape(features, (-1, 182))  # Flatten the feature sets\n",
    "\n",
    "mask = ~np.isin(augmented_labels, ['Asthma', 'LRTI'])\n",
    "augmented_features = augmented_features[mask]\n",
    "augmented_labels = augmented_labels[mask]"
   ]
  },
  {
   "cell_type": "code",
   "execution_count": 20,
   "id": "2c2ff0b3",
   "metadata": {},
   "outputs": [],
   "source": [
    "le = LabelEncoder()\n",
    "i_labels = le.fit_transform(augmented_labels)\n",
    "oh_labels = to_categorical(i_labels)"
   ]
  },
  {
   "cell_type": "code",
   "execution_count": 21,
   "id": "f74d788c",
   "metadata": {},
   "outputs": [
    {
     "data": {
      "text/plain": [
       "(2751, 6)"
      ]
     },
     "execution_count": 21,
     "metadata": {},
     "output_type": "execute_result"
    }
   ],
   "source": [
    "oh_labels.shape"
   ]
  },
  {
   "cell_type": "code",
   "execution_count": 22,
   "id": "e94680e1",
   "metadata": {},
   "outputs": [
    {
     "data": {
      "text/plain": [
       "(2751, 182)"
      ]
     },
     "execution_count": 22,
     "metadata": {},
     "output_type": "execute_result"
    }
   ],
   "source": [
    "flattened_features.shape"
   ]
  },
  {
   "cell_type": "code",
   "execution_count": 23,
   "id": "110d46a1",
   "metadata": {},
   "outputs": [],
   "source": [
    "# train test split\n",
    "x_train, x_test, y_train, y_test = train_test_split(flattened_features, oh_labels, stratify=oh_labels,\n",
    "                                                    test_size=0.2, random_state = 42)"
   ]
  },
  {
   "cell_type": "code",
   "execution_count": 24,
   "id": "47fe068d",
   "metadata": {},
   "outputs": [],
   "source": [
    "#SCALER & TRANSFORMATION\n",
    "scaler_data = StandardScaler()"
   ]
  },
  {
   "cell_type": "code",
   "execution_count": 25,
   "id": "a784909a",
   "metadata": {},
   "outputs": [
    {
     "name": "stdout",
     "output_type": "stream",
     "text": [
      "(2200, 182)\n",
      "(2200, 6)\n",
      "(551, 182)\n",
      "(551, 6)\n"
     ]
    }
   ],
   "source": [
    "print(x_train.shape)\n",
    "print(y_train.shape)\n",
    "print(x_test.shape)\n",
    "print(y_test.shape)"
   ]
  },
  {
   "cell_type": "code",
   "execution_count": 26,
   "id": "35ff489a",
   "metadata": {},
   "outputs": [],
   "source": [
    "x_train = scaler_data.fit_transform(x_train)\n",
    "x_test = scaler_data.transform(x_test)"
   ]
  },
  {
   "cell_type": "code",
   "execution_count": 27,
   "id": "9fae1a88",
   "metadata": {},
   "outputs": [],
   "source": [
    "x_train = np.expand_dims(x_train,axis=2)\n",
    "x_test = np.expand_dims(x_test,axis=2)"
   ]
  },
  {
   "cell_type": "code",
   "execution_count": 28,
   "id": "c41e53c7",
   "metadata": {},
   "outputs": [],
   "source": [
    "from tensorflow.keras import layers, Sequential\n",
    "\n",
    "num_labels = len(np.unique(new_labels))  # Determine the number of unique classes\n",
    "\n",
    "Model = Sequential([\n",
    "    layers.Conv1D(256, kernel_size=5, strides=1, padding='same', activation='relu', input_shape=(x_train.shape[1], 1)),\n",
    "    layers.MaxPooling1D(pool_size=5, strides = 2, padding = 'same'),\n",
    "    layers.Conv1D(256, kernel_size=5, strides=1, padding='same', activation='relu'),\n",
    "    layers.MaxPooling1D(pool_size=5, strides = 2, padding = 'same'),\n",
    "    layers.Conv1D(128, kernel_size=5, strides=1, padding='same', activation='relu'),\n",
    "    layers.MaxPooling1D(pool_size=5, strides = 2, padding = 'same'),\n",
    "    layers.Conv1D(64, kernel_size=5, strides=1, padding='same', activation='relu'),\n",
    "    layers.MaxPooling1D(pool_size=5, strides = 2, padding = 'same'),\n",
    "    layers.Conv1D(32, kernel_size=5, strides=1, padding='same', activation='relu'),\n",
    "    layers.MaxPooling1D(pool_size=5, strides = 2, padding = 'same'),\n",
    "    layers.Dropout(0.2),\n",
    "    layers.Flatten(),\n",
    "    layers.Dense(units=32, activation='relu'),\n",
    "    layers.Dropout(0.3),\n",
    "    layers.Dense(units=num_labels, activation='softmax')\n",
    "])"
   ]
  },
  {
   "cell_type": "code",
   "execution_count": 29,
   "id": "17e3b5d2",
   "metadata": {},
   "outputs": [],
   "source": [
    "Model.compile(optimizer = 'adam' , loss = 'categorical_crossentropy' , metrics = ['accuracy'])"
   ]
  },
  {
   "cell_type": "code",
   "execution_count": 30,
   "id": "cd613468",
   "metadata": {},
   "outputs": [],
   "source": [
    "early_stop = tensorflow.keras.callbacks.EarlyStopping(monitor=\"loss\",patience=3,mode=\"min\")"
   ]
  },
  {
   "cell_type": "code",
   "execution_count": 31,
   "id": "cd9f772f",
   "metadata": {},
   "outputs": [
    {
     "name": "stdout",
     "output_type": "stream",
     "text": [
      "Epoch 1/100\n",
      "35/35 [==============================] - 25s 492ms/step - loss: 0.7904 - accuracy: 0.8291 - val_loss: 0.6061 - val_accuracy: 0.8639\n",
      "Epoch 2/100\n",
      "35/35 [==============================] - 17s 479ms/step - loss: 0.5959 - accuracy: 0.8650 - val_loss: 0.5333 - val_accuracy: 0.8639\n",
      "Epoch 3/100\n",
      "35/35 [==============================] - 17s 476ms/step - loss: 0.5356 - accuracy: 0.8645 - val_loss: 0.4758 - val_accuracy: 0.8639\n",
      "Epoch 4/100\n",
      "35/35 [==============================] - 17s 477ms/step - loss: 0.4920 - accuracy: 0.8650 - val_loss: 0.4269 - val_accuracy: 0.8639\n",
      "Epoch 5/100\n",
      "35/35 [==============================] - 17s 472ms/step - loss: 0.4511 - accuracy: 0.8641 - val_loss: 0.4229 - val_accuracy: 0.8639\n",
      "Epoch 6/100\n",
      "35/35 [==============================] - 17s 486ms/step - loss: 0.4838 - accuracy: 0.8605 - val_loss: 0.4698 - val_accuracy: 0.8639\n",
      "Epoch 7/100\n",
      "35/35 [==============================] - 17s 479ms/step - loss: 0.4138 - accuracy: 0.8668 - val_loss: 0.4242 - val_accuracy: 0.8603\n",
      "Epoch 8/100\n",
      "35/35 [==============================] - 17s 495ms/step - loss: 0.3833 - accuracy: 0.8727 - val_loss: 0.3815 - val_accuracy: 0.8639\n",
      "Epoch 9/100\n",
      "35/35 [==============================] - 17s 488ms/step - loss: 0.3626 - accuracy: 0.8768 - val_loss: 0.3878 - val_accuracy: 0.8693\n",
      "Epoch 10/100\n",
      "35/35 [==============================] - 17s 487ms/step - loss: 0.3306 - accuracy: 0.8800 - val_loss: 0.3998 - val_accuracy: 0.8711\n",
      "Epoch 11/100\n",
      "35/35 [==============================] - 17s 498ms/step - loss: 0.3149 - accuracy: 0.8832 - val_loss: 0.3176 - val_accuracy: 0.8730\n",
      "Epoch 12/100\n",
      "35/35 [==============================] - 17s 490ms/step - loss: 0.2993 - accuracy: 0.8927 - val_loss: 0.3237 - val_accuracy: 0.8802\n",
      "Epoch 13/100\n",
      "35/35 [==============================] - 16s 468ms/step - loss: 0.2634 - accuracy: 0.9014 - val_loss: 0.3012 - val_accuracy: 0.8893\n",
      "Epoch 14/100\n",
      "35/35 [==============================] - 17s 479ms/step - loss: 0.2493 - accuracy: 0.9109 - val_loss: 0.3744 - val_accuracy: 0.8857\n",
      "Epoch 15/100\n",
      "35/35 [==============================] - 17s 477ms/step - loss: 0.2342 - accuracy: 0.9173 - val_loss: 0.2769 - val_accuracy: 0.9002\n",
      "Epoch 16/100\n",
      "35/35 [==============================] - 16s 469ms/step - loss: 0.2289 - accuracy: 0.9141 - val_loss: 0.2834 - val_accuracy: 0.9038\n",
      "Epoch 17/100\n",
      "35/35 [==============================] - 16s 462ms/step - loss: 0.2234 - accuracy: 0.9255 - val_loss: 0.2752 - val_accuracy: 0.8984\n",
      "Epoch 18/100\n",
      "35/35 [==============================] - 16s 468ms/step - loss: 0.2167 - accuracy: 0.9255 - val_loss: 0.3037 - val_accuracy: 0.9002\n",
      "Epoch 19/100\n",
      "35/35 [==============================] - 17s 482ms/step - loss: 0.2062 - accuracy: 0.9264 - val_loss: 0.2932 - val_accuracy: 0.8875\n",
      "Epoch 20/100\n",
      "35/35 [==============================] - 16s 471ms/step - loss: 0.2016 - accuracy: 0.9250 - val_loss: 0.2859 - val_accuracy: 0.9038\n",
      "Epoch 21/100\n",
      "35/35 [==============================] - 16s 471ms/step - loss: 0.1818 - accuracy: 0.9314 - val_loss: 0.2536 - val_accuracy: 0.9111\n",
      "Epoch 22/100\n",
      "35/35 [==============================] - 16s 465ms/step - loss: 0.1466 - accuracy: 0.9405 - val_loss: 0.2766 - val_accuracy: 0.9093\n",
      "Epoch 23/100\n",
      "35/35 [==============================] - 17s 483ms/step - loss: 0.1747 - accuracy: 0.9300 - val_loss: 0.2667 - val_accuracy: 0.9093\n",
      "Epoch 24/100\n",
      "35/35 [==============================] - 16s 462ms/step - loss: 0.1286 - accuracy: 0.9464 - val_loss: 0.2900 - val_accuracy: 0.9183\n",
      "Epoch 25/100\n",
      "35/35 [==============================] - 16s 460ms/step - loss: 0.1506 - accuracy: 0.9409 - val_loss: 0.2663 - val_accuracy: 0.9038\n",
      "Epoch 26/100\n",
      "35/35 [==============================] - 16s 465ms/step - loss: 0.1424 - accuracy: 0.9432 - val_loss: 0.2752 - val_accuracy: 0.9165\n",
      "Epoch 27/100\n",
      "35/35 [==============================] - 17s 475ms/step - loss: 0.1423 - accuracy: 0.9450 - val_loss: 0.4191 - val_accuracy: 0.9056\n"
     ]
    }
   ],
   "source": [
    "evConv1D_Model = Model.fit(x_train, y_train, batch_size=64, epochs=100, validation_data=(x_test, y_test), callbacks=[early_stop])"
   ]
  },
  {
   "cell_type": "code",
   "execution_count": 32,
   "id": "a19afa19",
   "metadata": {},
   "outputs": [
    {
     "name": "stdout",
     "output_type": "stream",
     "text": [
      "18/18 [==============================] - 1s 51ms/step - loss: 0.4191 - accuracy: 0.9056\n",
      "LOSS:  0.4191\n",
      "ACCURACY:  0.9056\n"
     ]
    }
   ],
   "source": [
    "Model_Results = Model.evaluate(x_test,y_test)\n",
    "print(\"LOSS:  \" + \"%.4f\" % Model_Results[0])\n",
    "print(\"ACCURACY:  \" + \"%.4f\" % Model_Results[1])"
   ]
  },
  {
   "cell_type": "code",
   "execution_count": 33,
   "id": "21297b1b",
   "metadata": {},
   "outputs": [
    {
     "data": {
      "image/png": "[encoded data removed]",
      "text/plain": [
       "<Figure size 1008x360 with 2 Axes>"
      ]
     },
     "metadata": {
      "needs_background": "light"
     },
     "output_type": "display_data"
    }
   ],
   "source": [
    "# Plotting loss\n",
    "plt.figure(figsize=(14, 5))\n",
    "plt.subplot(1, 2, 1)\n",
    "plt.plot(evConv1D_Model.history['loss'], label='Training Loss')\n",
    "plt.plot(evConv1D_Model.history['val_loss'], label='Validation Loss')\n",
    "plt.legend()\n",
    "plt.title('Training and Validation Loss')\n",
    "\n",
    "# Plotting accuracy\n",
    "plt.subplot(1, 2, 2)\n",
    "plt.plot(evConv1D_Model.history['accuracy'], label='Training Accuracy')\n",
    "plt.plot(evConv1D_Model.history['val_accuracy'], label='Validation Accuracy')\n",
    "plt.legend()\n",
    "plt.title('Training and Validation Accuracy')\n",
    "\n",
    "plt.show()"
   ]
  },
  {
   "cell_type": "code",
   "execution_count": 34,
   "id": "9f9b0d05",
   "metadata": {},
   "outputs": [
    {
     "name": "stdout",
     "output_type": "stream",
     "text": [
      "18/18 [==============================] - 2s 52ms/step\n"
     ]
    },
    {
     "data": {
      "image/png": "[encoded data removed]",
      "text/plain": [
       "<Figure size 432x288 with 2 Axes>"
      ]
     },
     "metadata": {
      "needs_background": "light"
     },
     "output_type": "display_data"
    }
   ],
   "source": [
    "# Getting the predictions\n",
    "y_pred = Model.predict(x_test)\n",
    "y_pred_classes = np.argmax(y_pred, axis=1)\n",
    "y_true = np.argmax(y_test, axis=1)\n",
    "\n",
    "# Generating the confusion matrix\n",
    "confusion_mtx = confusion_matrix(y_true, y_pred_classes)\n",
    "\n",
    "# Displaying the confusion matrix\n",
    "cm_display = ConfusionMatrixDisplay(confusion_mtx, display_labels=le.classes_).plot()"
   ]
  },
  {
   "cell_type": "code",
   "execution_count": 35,
   "id": "81cbf970",
   "metadata": {},
   "outputs": [
    {
     "data": {
      "text/plain": [
       "array([[2.1037211e-04, 3.1831787e-05, 9.9972171e-01, 7.0368483e-06,\n",
       "        2.1749667e-05, 7.3444648e-06],\n",
       "       [3.2694527e-07, 8.8558579e-08, 9.9999952e-01, 2.4491328e-08,\n",
       "        3.9400831e-08, 1.3512813e-08],\n",
       "       [1.2649990e-03, 1.8884392e-02, 1.1142515e-01, 3.7241923e-03,\n",
       "        8.5964251e-01, 5.0588017e-03],\n",
       "       ...,\n",
       "       [4.0454421e-11, 1.1361986e-10, 1.0000000e+00, 3.2322416e-11,\n",
       "        8.3402875e-11, 6.7733250e-12],\n",
       "       [1.0818387e-06, 2.4682512e-07, 9.9999845e-01, 5.6846751e-08,\n",
       "        8.0349238e-08, 5.3183530e-08],\n",
       "       [0.0000000e+00, 0.0000000e+00, 1.0000000e+00, 0.0000000e+00,\n",
       "        0.0000000e+00, 0.0000000e+00]], dtype=float32)"
      ]
     },
     "execution_count": 35,
     "metadata": {},
     "output_type": "execute_result"
    }
   ],
   "source": [
    "y_pred"
   ]
  },
  {
   "cell_type": "code",
   "execution_count": null,
   "id": "1223a2ed",
   "metadata": {},
   "outputs": [],
   "source": []
  }
 ],
 "metadata": {
  "kernelspec": {
   "display_name": "Python 3 (ipykernel)",
   "language": "python",
   "name": "python3"
  },
  "language_info": {
   "codemirror_mode": {
    "name": "ipython",
    "version": 3
   },
   "file_extension": ".py",
   "mimetype": "text/x-python",
   "name": "python",
   "nbconvert_exporter": "python",
   "pygments_lexer": "ipython3",
   "version": "3.9.12"
  }
 },
 "nbformat": 4,
 "nbformat_minor": 5
}
